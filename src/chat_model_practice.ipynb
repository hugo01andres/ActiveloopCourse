{
 "cells": [
  {
   "cell_type": "code",
   "execution_count": 6,
   "metadata": {},
   "outputs": [],
   "source": [
    "from dotenv import load_dotenv\n",
    "load_dotenv()\n",
    "from langchain.chat_models import ChatOpenAI\n",
    "from langchain.schema import (\n",
    "    SystemMessage,\n",
    "    HumanMessage,\n",
    "    AIMessage\n",
    ")\n",
    "from langchain.callbacks import get_openai_callback\n",
    "\n",
    "messages = [\n",
    "    SystemMessage(content=\"You are a helpful assistant.\"),\n",
    "    HumanMessage(content=\"What is the capital of France?\"),\n",
    "    AIMessage(content=\"The capital of France is Paris.\")\n",
    "]"
   ]
  },
  {
   "cell_type": "code",
   "execution_count": 8,
   "metadata": {},
   "outputs": [
    {
     "name": "stdout",
     "output_type": "stream",
     "text": [
      "content='Paris is not only the capital of France but also the most populous city in the country. It\\'s located in the north-central part of France. Known as the \"City of Light\" or the \"City of Love,\" Paris is famous for its world-renowned landmarks, cuisine, fashion, and culture. \\n\\nHere are some key points about Paris:\\n\\n1. Landmarks: Paris is home to many historic sites and landmarks. The most iconic of these is the Eiffel Tower, which was originally built as a temporary exhibit for the 1889 World\\'s Fair. Other landmarks include the Louvre, one of the world\\'s largest and most visited museums, Notre-Dame Cathedral, and the Champs-Élysées, which leads up to the Arc de Triomphe.\\n\\n2. Culture: Paris is a hub for art, fashion, gastronomy, and culture. Its artistic pedigree is renowned with the likes of the Impressionist movement originating from Paris. It\\'s also known for its theatre and music, with the Paris Opera being one of the most famous in the world.\\n\\n3. Cuisine: Paris is globally recognized for its gastronomy. It\\'s known for its bakeries, cheese shops, and markets, with dishes like escargot, coq au vin, and croissants being staples in Parisian cuisine. The city is also packed with Michelin-starred restaurants.\\n\\n4. Education: Paris is home to some of the world\\'s top universities, like the University of Paris, often referred to as the Sorbonne.\\n\\n5. Transport: Paris has an extensive public transport system, the Paris Metro, which is one of the oldest and busiest metro systems in the world. It also has two airports, Charles de Gaulle and Orly.\\n\\nParis is known for its romantic ambiance and is a popular destination for honeymooners and couples. It\\'s also a major global city for commerce and has several business districts, including La Défense, the largest purpose-built business district in Europe.' additional_kwargs={} example=False\n",
      "Tokens Used: 472\n",
      "\tPrompt Tokens: 69\n",
      "\tCompletion Tokens: 403\n",
      "Successful Requests: 1\n",
      "Total Cost (USD): $0.02625\n"
     ]
    }
   ],
   "source": [
    "prompt = HumanMessage(\n",
    "    content=\"I'd like to know more about the city you just mentioned.\"\n",
    ")\n",
    "# add to messages\n",
    "messages.append(prompt)\n",
    "\n",
    "llm = ChatOpenAI(model_name=\"gpt-4\")\n",
    "\n",
    "with get_openai_callback() as cb:\n",
    "    response = llm(messages)\n",
    "    print(response)\n",
    "    print(cb)"
   ]
  }
 ],
 "metadata": {
  "kernelspec": {
   "display_name": "env",
   "language": "python",
   "name": "python3"
  },
  "language_info": {
   "codemirror_mode": {
    "name": "ipython",
    "version": 3
   },
   "file_extension": ".py",
   "mimetype": "text/x-python",
   "name": "python",
   "nbconvert_exporter": "python",
   "pygments_lexer": "ipython3",
   "version": "3.10.13"
  }
 },
 "nbformat": 4,
 "nbformat_minor": 2
}
