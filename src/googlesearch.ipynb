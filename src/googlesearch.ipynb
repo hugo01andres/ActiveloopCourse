{
 "cells": [
  {
   "cell_type": "code",
   "execution_count": 1,
   "metadata": {},
   "outputs": [],
   "source": [
    "from dotenv import load_dotenv\n",
    "load_dotenv()\n",
    "from langchain.llms import OpenAI\n",
    "import os\n",
    "\n",
    "from langchain.agents import AgentType\n",
    "from langchain.agents import load_tools\n",
    "from langchain.agents import initialize_agent\n",
    "\n",
    "from langchain.agents import Tool\n",
    "from langchain.utilities import GoogleSearchAPIWrapper"
   ]
  },
  {
   "cell_type": "code",
   "execution_count": 2,
   "metadata": {},
   "outputs": [],
   "source": [
    "llm = OpenAI(model=\"text-davinci-003\", temperature=0)"
   ]
  },
  {
   "cell_type": "code",
   "execution_count": 3,
   "metadata": {},
   "outputs": [],
   "source": [
    "# remember to set the environment variables\n",
    "# “GOOGLE_API_KEY” and “GOOGLE_CSE_ID” to be able to use\n",
    "# Google Search via API.\n",
    "search = GoogleSearchAPIWrapper()"
   ]
  },
  {
   "cell_type": "code",
   "execution_count": 4,
   "metadata": {},
   "outputs": [],
   "source": [
    "\n",
    "tools = [\n",
    "    Tool(\n",
    "        name = \"google-search\",\n",
    "        func=search.run,\n",
    "        description=\"useful for when you need to search google to answer questions about current events\"\n",
    "    )\n",
    "]"
   ]
  },
  {
   "cell_type": "code",
   "execution_count": 5,
   "metadata": {},
   "outputs": [],
   "source": [
    "agent = initialize_agent(tools, \n",
    "                         llm, \n",
    "                         agent=AgentType.ZERO_SHOT_REACT_DESCRIPTION, \n",
    "                         verbose=True,\n",
    "                         max_iterations=6)"
   ]
  },
  {
   "cell_type": "code",
   "execution_count": 6,
   "metadata": {},
   "outputs": [
    {
     "name": "stdout",
     "output_type": "stream",
     "text": [
      "\n",
      "\n",
      "\u001b[1m> Entering new  chain...\u001b[0m\n",
      "\u001b[32;1m\u001b[1;3m I need to find out the latest news about the Mars rover\n",
      "Action: google-search\n",
      "Action Input: \"latest news Mars rover\"\u001b[0m\n",
      "Observation: \u001b[36;1m\u001b[1;3mNews ; NASA's Perseverance Rover Deciphers Ancient History of Martian Lake. December 12, 2023 ; NASA's MAVEN Observes the Disappearing Solar Wind. December 11, ... Dec 15, 2021 ... Mars Sample Return is going to have great stuff to choose from!” Get the Latest JPL News. SUBSCRIBE TO THE NEWSLETTER. The multi-mission Mars ... Look for the latest news on the Mars Science Laboratory, Curiosity Rover. Apr 13, 2023 ... Seen here is the rover's view of a hill nicknamed “Bolívar,” with Gale Crater's vast floor in the upper right. Credit: NASA/JPL-Caltech/MSSS. Blog updates written by Mars Perseverance mission team members. The latest breaking news, comment and features from The Independent. Get the latest news releases about the Perseverance rover mission. Mars rover beams back dramatic selfie at majestic \"Mont Mercou\". Curiosity ... CBS News National: Latest Videos. More CBS News National: Latest Videos · cbsn ... Apr 25, 2023 ... China's Mars rover, which has been in longer-than-expected hibernation on the red planet since May 2022, has likely suffered excessive ... Apr 28, 2023 ... Friday's news comes days after mission leaders acknowledged that the Zhurong rover has yet to wake up since going into hibernation for the ...\u001b[0m\n",
      "Thought:\u001b[32;1m\u001b[1;3m I now know the latest news about the Mars rover\n",
      "Final Answer: The latest news about the Mars rover includes NASA's Perseverance Rover Deciphering Ancient History of Martian Lake, NASA's MAVEN Observing the Disappearing Solar Wind, Mars Sample Return having great stuff to choose from, Curiosity Rover's view of a hill nicknamed “Bolívar”, China's Mars rover in longer-than-expected hibernation, and Zhurong rover going into hibernation.\u001b[0m\n",
      "\n",
      "\u001b[1m> Finished chain.\u001b[0m\n",
      "The latest news about the Mars rover includes NASA's Perseverance Rover Deciphering Ancient History of Martian Lake, NASA's MAVEN Observing the Disappearing Solar Wind, Mars Sample Return having great stuff to choose from, Curiosity Rover's view of a hill nicknamed “Bolívar”, China's Mars rover in longer-than-expected hibernation, and Zhurong rover going into hibernation.\n"
     ]
    }
   ],
   "source": [
    "response = agent(\"What's the latest news about the Mars rover?\")\n",
    "print(response['output'])"
   ]
  }
 ],
 "metadata": {
  "kernelspec": {
   "display_name": "env",
   "language": "python",
   "name": "python3"
  },
  "language_info": {
   "codemirror_mode": {
    "name": "ipython",
    "version": 3
   },
   "file_extension": ".py",
   "mimetype": "text/x-python",
   "name": "python",
   "nbconvert_exporter": "python",
   "pygments_lexer": "ipython3",
   "version": "3.10.2"
  }
 },
 "nbformat": 4,
 "nbformat_minor": 2
}
