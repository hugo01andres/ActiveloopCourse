{
 "cells": [
  {
   "cell_type": "code",
   "execution_count": 1,
   "metadata": {},
   "outputs": [],
   "source": [
    "from dotenv import load_dotenv\n",
    "load_dotenv()\n",
    "from langchain.llms import OpenAI\n",
    "from langchain.agents import Tool\n",
    "from langchain.utilities import GoogleSearchAPIWrapper\n",
    "from langchain.prompts import PromptTemplate\n",
    "from langchain.chains import LLMChain\n",
    "from langchain.agents import initialize_agent, AgentType"
   ]
  },
  {
   "cell_type": "code",
   "execution_count": null,
   "metadata": {},
   "outputs": [],
   "source": [
    "# Instance a model\n",
    "llm = OpenAI(model=\"text-davinci-003\", temperature=0)"
   ]
  },
  {
   "cell_type": "code",
   "execution_count": 2,
   "metadata": {},
   "outputs": [],
   "source": [
    "# Instance the first tool\n",
    "prompt = PromptTemplate(\n",
    "    input_variables=[\"query\"],\n",
    "    template=\"Write a summary of the following text: {query}\"\n",
    ")\n",
    "# Initialize an agent that has a model and a prompt template\n",
    "summarize_chain = LLMChain(llm=llm, prompt=prompt)"
   ]
  },
  {
   "cell_type": "code",
   "execution_count": 3,
   "metadata": {},
   "outputs": [],
   "source": [
    "# Initialize the search api\n",
    "search = GoogleSearchAPIWrapper()\n",
    "\n",
    "# we create a tools, in this the agent will have 2 tools, one to search in the web and another to summarize\n",
    "tools = [\n",
    "    Tool(\n",
    "        name=\"Search On Google\",\n",
    "        func=search.run,\n",
    "        description=\"useful for finding information about recent events\"\n",
    "    ),\n",
    "    Tool(\n",
    "       name='Summarize the text',\n",
    "       func=summarize_chain.run,\n",
    "       description='useful for summarizing texts'\n",
    "    )\n",
    "]"
   ]
  },
  {
   "cell_type": "code",
   "execution_count": 4,
   "metadata": {},
   "outputs": [],
   "source": [
    "# we inject the tools into the agent\n",
    "agent = initialize_agent(\n",
    "    tools,\n",
    "    llm,\n",
    "    agent=AgentType.ZERO_SHOT_REACT_DESCRIPTION,\n",
    "    verbose=True  \n",
    ")"
   ]
  },
  {
   "cell_type": "code",
   "execution_count": 5,
   "metadata": {},
   "outputs": [
    {
     "name": "stdout",
     "output_type": "stream",
     "text": [
      "\n",
      "\n",
      "\u001b[1m> Entering new  chain...\u001b[0m\n",
      "\u001b[32;1m\u001b[1;3m I need to find the latest news about the Mars rover and then summarize it.\n",
      "Action: Search\n",
      "Action Input: Latest news about the Mars rover\u001b[0m\n",
      "Observation: \u001b[36;1m\u001b[1;3mNASA's Curiosity Mars rover captured these clouds just after sunset on March 19, 2021, ... Feb 8, 2023 ... NASA's Curiosity Mars rover has discovered lots of evidence of ancient lakes on the Red Planet – and this recent panorama shows intriguing ... News ; NASA's Perseverance Rover Deciphers Ancient History of Martian Lake. December 12, 2023 ; NASA's MAVEN Observes the Disappearing Solar Wind. December 11, ... Dec 15, 2021 ... These and other findings were presented today during a news briefing at the American Geophysical Union fall science meeting in New Orleans. Even ... NASA's Mars 2020 Perseverance rover will look for signs of past microbial life, cache rock and soil samples, and prepare for future human exploration. Apr 13, 2023 ... NASA's Curiosity Mars rover will drive faster and reduce wear on its wheels thanks to two of the new capabilities included with a major software ... The latest breaking news, comment and features from The Independent. Oct 19, 2022 ... “We would get new images every morning and just be in awe,” said Elena Amador-French of JPL, Curiosity's science operations coordinator, who ... Apr 25, 2023 ... China's Mars rover, which has been in longer-than-expected hibernation on the red planet since May 2022, has likely suffered excessive ... Oct 23, 2023 ... A new analysis, led by Penn State researchers, of data from the Curiosity rover reveals that much of the craters on Mars today could have ...\u001b[0m\n",
      "Thought:\u001b[32;1m\u001b[1;3m I need to summarize the results.\n",
      "Action: Summarizer\n",
      "Action Input: NASA's Curiosity Mars rover captured these clouds just after sunset on March 19, 2021, ... Feb 8, 2023 ... NASA's Curiosity Mars rover has discovered lots of evidence of ancient lakes on the Red Planet – and this recent panorama shows intriguing ... News ; NASA's Perseverance Rover Deciphers Ancient History of Martian Lake. December 12, 2023 ; NASA's MAVEN Observes the Disappearing Solar Wind. December 11, ... Dec 15, 2021 ... These and other findings were presented today during a news briefing at the American Geophysical Union fall science meeting in New Orleans. Even ... NASA's Mars 2020 Perseverance rover will look for signs of past microbial life, cache rock and soil samples, and prepare for future human exploration. Apr 13, 2023 ... NASA's Curiosity Mars rover will drive faster and reduce wear on its wheels thanks to two of the new capabilities included with a major software ... The latest breaking news, comment and features from The Independent. Oct 19, 2022 ... “We would get new images every morning and just be in awe,” said Elena Amador-French of JPL, Curiosity's science operations coordinator, who\u001b[0m\n",
      "Observation: \u001b[33;1m\u001b[1;3m ...\n",
      "\n",
      "NASA's Curiosity Mars rover has been exploring the Red Planet since March 19, 2021, and has discovered evidence of ancient lakes. In December 2021, findings from the rover were presented at the American Geophysical Union fall science meeting in New Orleans. In December 2023, NASA's MAVEN observed the disappearing solar wind. In October 2022, the rover's science operations coordinator Elena Amador-French expressed her awe at the images the rover captured. In April 2023, the rover was upgraded with new software capabilities to drive faster and reduce wear on its wheels. Finally, in February 2023, NASA's Mars 2020 Perseverance rover was launched to look for signs of past microbial life, cache rock and soil samples, and prepare for future human exploration.\u001b[0m\n",
      "Thought:\u001b[32;1m\u001b[1;3m I now know the final answer\n",
      "Final Answer: NASA's Curiosity Mars rover has been exploring the Red Planet since March 19, 2021, and has discovered evidence of ancient lakes. In December 2021, findings from the rover were presented at the American Geophysical Union fall science meeting in New Orleans. In December 2023, NASA's MAVEN observed the disappearing solar wind. In October 2022, the rover's science operations coordinator Elena Amador-French expressed her awe at the images the rover captured. In April 2023, the rover was upgraded with new software capabilities to drive faster and reduce wear on its wheels. Finally, in February 2023, NASA's Mars 2020 Perseverance rover was launched to look for signs of past microbial life, cache rock and soil samples, and prepare for future human exploration.\u001b[0m\n",
      "\n",
      "\u001b[1m> Finished chain.\u001b[0m\n",
      "NASA's Curiosity Mars rover has been exploring the Red Planet since March 19, 2021, and has discovered evidence of ancient lakes. In December 2021, findings from the rover were presented at the American Geophysical Union fall science meeting in New Orleans. In December 2023, NASA's MAVEN observed the disappearing solar wind. In October 2022, the rover's science operations coordinator Elena Amador-French expressed her awe at the images the rover captured. In April 2023, the rover was upgraded with new software capabilities to drive faster and reduce wear on its wheels. Finally, in February 2023, NASA's Mars 2020 Perseverance rover was launched to look for signs of past microbial life, cache rock and soil samples, and prepare for future human exploration.\n"
     ]
    }
   ],
   "source": [
    "response = agent(\"What's the latest news about the Mars rover? Then please summarize the results.\")\n",
    "print(response['output'])"
   ]
  }
 ],
 "metadata": {
  "kernelspec": {
   "display_name": "env",
   "language": "python",
   "name": "python3"
  },
  "language_info": {
   "codemirror_mode": {
    "name": "ipython",
    "version": 3
   },
   "file_extension": ".py",
   "mimetype": "text/x-python",
   "name": "python",
   "nbconvert_exporter": "python",
   "pygments_lexer": "ipython3",
   "version": "3.10.13"
  }
 },
 "nbformat": 4,
 "nbformat_minor": 2
}
